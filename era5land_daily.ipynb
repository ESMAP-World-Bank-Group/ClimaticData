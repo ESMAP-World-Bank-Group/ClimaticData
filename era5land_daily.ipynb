{
 "cells": [
  {
   "cell_type": "code",
   "id": "initial_id",
   "metadata": {
    "collapsed": true,
    "ExecuteTime": {
     "end_time": "2025-04-18T16:10:27.793862Z",
     "start_time": "2025-04-18T16:10:27.791728Z"
    }
   },
   "source": [
    "import cdsapi\n",
    "import timeit\n",
    "import os\n",
    "from utils import *\n",
    "import xarray as xr\n",
    "import zipfile\n",
    "from matplotlib import pyplot as plt\n"
   ],
   "outputs": [],
   "execution_count": 9
  },
  {
   "metadata": {
    "ExecuteTime": {
     "end_time": "2025-04-18T16:09:31.328819Z",
     "start_time": "2025-04-18T16:09:31.326703Z"
    }
   },
   "cell_type": "code",
   "source": [
    "ISO_A2 = 'GN'\n",
    "\n",
    "start_year = 1950                                            # from 1950\n",
    "end_year = 1951\n",
    "\n",
    "variables_list = [\n",
    "                  'runoff',\n",
    "                 ]# to present year\n",
    "\n",
    "folder_nc = 'era5_api'"
   ],
   "id": "ef564df0c6e28369",
   "outputs": [],
   "execution_count": 5
  },
  {
   "metadata": {
    "ExecuteTime": {
     "end_time": "2025-04-18T16:09:31.409932Z",
     "start_time": "2025-04-18T16:09:31.334423Z"
    }
   },
   "cell_type": "code",
   "source": [
    "### Processing Data\n",
    "dataset = 'reanalysis-era5-land'  # 'reanalysis-era5-land'\n",
    "variable_name = {\n",
    "    'total_precipitation': 'tp',\n",
    "    'surface_runoff': 'sro',\n",
    "    'runoff': 'ro',\n",
    "    'snow_depth_water_equivalent': 'sd',\n",
    "    '2m_temperature': 't2m',\n",
    "    'potential_evaporation': 'pev',\n",
    "    'total_evaporation': 'e'\n",
    "}\n",
    "\n",
    "temp = '_'.join([variable_name[variable] for variable in variables_list])\n",
    "\n",
    "\n",
    "long_west, lat_south, long_east, lat_north = get_bbox(ISO_A2)"
   ],
   "id": "7f5485c892814125",
   "outputs": [],
   "execution_count": 6
  },
  {
   "metadata": {
    "ExecuteTime": {
     "end_time": "2025-04-18T16:10:14.054417Z",
     "start_time": "2025-04-18T16:09:31.420336Z"
    }
   },
   "cell_type": "code",
   "source": [
    "years = [ str(start_year +i ) for i in range(end_year - start_year + 1)]\n",
    "if not os.path.exists(folder_nc): os.mkdir(folder_nc)\n",
    "for year in years:\n",
    "    downloaded_file = f'{dataset}_{ISO_A2}_{year}_{temp}.zip'\n",
    "    print(f'File to download: {downloaded_file}')\n",
    "\n",
    "    if not os.path.exists(os.path.join(folder_nc, downloaded_file)):\n",
    "        print('Process started. Please wait the ending message ... ')\n",
    "        start = timeit.default_timer()\n",
    "        c = cdsapi.Client()\n",
    "\n",
    "        c.retrieve(\n",
    "            dataset,\n",
    "            {\n",
    "                'data_format': 'grib',\n",
    "                #'format': 'grib',\n",
    "                #'product_type': 'monthly_averaged_reanalysis',\n",
    "                'variable': [\"runoff\"],\n",
    "                'year': year,\n",
    "                'day': ['01', '02', '03', '04', '05', '06', '07', '08', '09', '10', '11', '12',\n",
    "                        '13', '14', '15', '16', '17', '18', '19', '20', '21', '22', '23', '24',\n",
    "                        '25', '26', '27', '28', '29', '30', '31'],\n",
    "                'month': [ '01', '02', '03', '04', '05', '06', '07', '08', '09', '10', '11', '12'],\n",
    "                'time': ['00:00', '01:00', '02:00', '03:00', '04:00', '05:00', '06:00', '07:00', '08:00',\n",
    "                         '09:00', '10:00', '11:00', '12:00', '13:00', '14:00', '15:00', '16:00', '17:00',\n",
    "                         '18:00', '19:00', '20:00', '21:00', '22:00', '23:00'],\n",
    "                'area': [ lat_south, long_west, lat_north, long_east ],\n",
    "            }, os.path.join(folder_nc, downloaded_file)\n",
    "            )\n",
    "\n",
    "        stop = timeit.default_timer()\n",
    "        print('Process completed in ', (stop - start)/60, ' minutes')\n",
    "    else:\n",
    "        print('File already exists.')"
   ],
   "id": "b8f8be2468eea5e1",
   "outputs": [
    {
     "name": "stdout",
     "output_type": "stream",
     "text": [
      "File to download: reanalysis-era5-land_GN_1950_ro.zip\n",
      "Process started. Please wait the ending message ... \n"
     ]
    },
    {
     "name": "stderr",
     "output_type": "stream",
     "text": [
      "2025-04-18 18:09:31,653 INFO [2024-09-26T00:00:00] Watch our [Forum](https://forum.ecmwf.int/) for Announcements, news and other discussed topics.\n",
      "2025-04-18 18:09:31,653 WARNING [2024-06-16T00:00:00] CDS API syntax is changed and some keys or parameter names may have also changed. To avoid requests failing, please use the \"Show API request code\" tool on the dataset Download Form to check you are using the correct syntax for your API request.\n",
      "2025-04-18 18:09:31,837 INFO Request ID is 7fa9f0fe-3272-4c93-9086-5cc5f6f1e14c\n",
      "2025-04-18 18:09:31,938 INFO status has been updated to accepted\n",
      "2025-04-18 18:09:40,408 INFO status has been updated to running\n",
      "2025-04-18 18:09:45,536 INFO status has been updated to successful\n",
      "2025-04-18 18:09:53,925 INFO [2024-09-26T00:00:00] Watch our [Forum](https://forum.ecmwf.int/) for Announcements, news and other discussed topics.\n",
      "2025-04-18 18:09:53,926 WARNING [2024-06-16T00:00:00] CDS API syntax is changed and some keys or parameter names may have also changed. To avoid requests failing, please use the \"Show API request code\" tool on the dataset Download Form to check you are using the correct syntax for your API request.\n"
     ]
    },
    {
     "name": "stdout",
     "output_type": "stream",
     "text": [
      "Process completed in  0.3731356354158682  minutes\n",
      "File to download: reanalysis-era5-land_GN_1951_ro.zip\n",
      "Process started. Please wait the ending message ... \n"
     ]
    },
    {
     "name": "stderr",
     "output_type": "stream",
     "text": [
      "2025-04-18 18:09:54,150 INFO Request ID is 74b73a13-107d-4d2d-b5e2-0eb5e20c8079\n",
      "2025-04-18 18:09:54,218 INFO status has been updated to accepted\n",
      "2025-04-18 18:10:02,748 INFO status has been updated to running\n",
      "2025-04-18 18:10:07,865 INFO status has been updated to successful\n",
      "                                                                                          "
     ]
    },
    {
     "name": "stdout",
     "output_type": "stream",
     "text": [
      "Process completed in  0.33733788958440225  minutes\n"
     ]
    },
    {
     "name": "stderr",
     "output_type": "stream",
     "text": [
      "\r"
     ]
    }
   ],
   "execution_count": 7
  },
  {
   "metadata": {
    "ExecuteTime": {
     "end_time": "2025-04-18T16:11:53.754934Z",
     "start_time": "2025-04-18T16:11:46.774442Z"
    }
   },
   "cell_type": "code",
   "source": "ds_raw = extract_data(os.path.join(folder_nc, downloaded_file), step_type=None)",
   "id": "d5569f98c497f5cd",
   "outputs": [
    {
     "name": "stderr",
     "output_type": "stream",
     "text": [
      "Ignoring index file 'era5_extracted_files/reanalysis-era5-land_GN_1951_ro.grib.5b7b6.idx' older than GRIB file\n"
     ]
    },
    {
     "name": "stdout",
     "output_type": "stream",
     "text": [
      "Opening GRIB file: era5_extracted_files/reanalysis-era5-land_GN_1951_ro.grib\n"
     ]
    },
    {
     "name": "stderr",
     "output_type": "stream",
     "text": [
      "Ignoring index file 'era5_extracted_files/reanalysis-era5-land_GN_1951_ro.grib.5b7b6.idx' older than GRIB file\n"
     ]
    },
    {
     "name": "stdout",
     "output_type": "stream",
     "text": [
      "Opening GRIB file: era5_extracted_files/reanalysis-era5-land_GN_1951_ro.grib\n"
     ]
    }
   ],
   "execution_count": 18
  },
  {
   "metadata": {
    "ExecuteTime": {
     "end_time": "2025-04-18T16:15:05.119164Z",
     "start_time": "2025-04-18T16:14:59.031190Z"
    }
   },
   "cell_type": "code",
   "source": "ds_raw['ro'].to_dataframe().reset_index()",
   "id": "cfcc6246919bf74c",
   "outputs": [
    {
     "data": {
      "text/plain": [
       "               time            step  latitude  longitude  number  surface  \\\n",
       "0        1950-12-31 0 days 01:00:00    12.591 -15.082000       0      0.0   \n",
       "1        1950-12-31 0 days 01:00:00    12.591 -14.981986       0      0.0   \n",
       "2        1950-12-31 0 days 01:00:00    12.591 -14.881973       0      0.0   \n",
       "3        1950-12-31 0 days 01:00:00    12.591 -14.781959       0      0.0   \n",
       "4        1950-12-31 0 days 01:00:00    12.591 -14.681946       0      0.0   \n",
       "...             ...             ...       ...        ...     ...      ...   \n",
       "36233995 1951-12-31 1 days 00:00:00     7.190  -8.081054       0      0.0   \n",
       "36233996 1951-12-31 1 days 00:00:00     7.190  -7.981041       0      0.0   \n",
       "36233997 1951-12-31 1 days 00:00:00     7.190  -7.881027       0      0.0   \n",
       "36233998 1951-12-31 1 days 00:00:00     7.190  -7.781014       0      0.0   \n",
       "36233999 1951-12-31 1 days 00:00:00     7.190  -7.681000       0      0.0   \n",
       "\n",
       "                  valid_time  ro  \n",
       "0        1950-12-31 01:00:00 NaN  \n",
       "1        1950-12-31 01:00:00 NaN  \n",
       "2        1950-12-31 01:00:00 NaN  \n",
       "3        1950-12-31 01:00:00 NaN  \n",
       "4        1950-12-31 01:00:00 NaN  \n",
       "...                      ...  ..  \n",
       "36233995 1952-01-01 00:00:00 NaN  \n",
       "36233996 1952-01-01 00:00:00 NaN  \n",
       "36233997 1952-01-01 00:00:00 NaN  \n",
       "36233998 1952-01-01 00:00:00 NaN  \n",
       "36233999 1952-01-01 00:00:00 NaN  \n",
       "\n",
       "[36234000 rows x 8 columns]"
      ],
      "text/html": [
       "<div>\n",
       "<style scoped>\n",
       "    .dataframe tbody tr th:only-of-type {\n",
       "        vertical-align: middle;\n",
       "    }\n",
       "\n",
       "    .dataframe tbody tr th {\n",
       "        vertical-align: top;\n",
       "    }\n",
       "\n",
       "    .dataframe thead th {\n",
       "        text-align: right;\n",
       "    }\n",
       "</style>\n",
       "<table border=\"1\" class=\"dataframe\">\n",
       "  <thead>\n",
       "    <tr style=\"text-align: right;\">\n",
       "      <th></th>\n",
       "      <th>time</th>\n",
       "      <th>step</th>\n",
       "      <th>latitude</th>\n",
       "      <th>longitude</th>\n",
       "      <th>number</th>\n",
       "      <th>surface</th>\n",
       "      <th>valid_time</th>\n",
       "      <th>ro</th>\n",
       "    </tr>\n",
       "  </thead>\n",
       "  <tbody>\n",
       "    <tr>\n",
       "      <th>0</th>\n",
       "      <td>1950-12-31</td>\n",
       "      <td>0 days 01:00:00</td>\n",
       "      <td>12.591</td>\n",
       "      <td>-15.082000</td>\n",
       "      <td>0</td>\n",
       "      <td>0.0</td>\n",
       "      <td>1950-12-31 01:00:00</td>\n",
       "      <td>NaN</td>\n",
       "    </tr>\n",
       "    <tr>\n",
       "      <th>1</th>\n",
       "      <td>1950-12-31</td>\n",
       "      <td>0 days 01:00:00</td>\n",
       "      <td>12.591</td>\n",
       "      <td>-14.981986</td>\n",
       "      <td>0</td>\n",
       "      <td>0.0</td>\n",
       "      <td>1950-12-31 01:00:00</td>\n",
       "      <td>NaN</td>\n",
       "    </tr>\n",
       "    <tr>\n",
       "      <th>2</th>\n",
       "      <td>1950-12-31</td>\n",
       "      <td>0 days 01:00:00</td>\n",
       "      <td>12.591</td>\n",
       "      <td>-14.881973</td>\n",
       "      <td>0</td>\n",
       "      <td>0.0</td>\n",
       "      <td>1950-12-31 01:00:00</td>\n",
       "      <td>NaN</td>\n",
       "    </tr>\n",
       "    <tr>\n",
       "      <th>3</th>\n",
       "      <td>1950-12-31</td>\n",
       "      <td>0 days 01:00:00</td>\n",
       "      <td>12.591</td>\n",
       "      <td>-14.781959</td>\n",
       "      <td>0</td>\n",
       "      <td>0.0</td>\n",
       "      <td>1950-12-31 01:00:00</td>\n",
       "      <td>NaN</td>\n",
       "    </tr>\n",
       "    <tr>\n",
       "      <th>4</th>\n",
       "      <td>1950-12-31</td>\n",
       "      <td>0 days 01:00:00</td>\n",
       "      <td>12.591</td>\n",
       "      <td>-14.681946</td>\n",
       "      <td>0</td>\n",
       "      <td>0.0</td>\n",
       "      <td>1950-12-31 01:00:00</td>\n",
       "      <td>NaN</td>\n",
       "    </tr>\n",
       "    <tr>\n",
       "      <th>...</th>\n",
       "      <td>...</td>\n",
       "      <td>...</td>\n",
       "      <td>...</td>\n",
       "      <td>...</td>\n",
       "      <td>...</td>\n",
       "      <td>...</td>\n",
       "      <td>...</td>\n",
       "      <td>...</td>\n",
       "    </tr>\n",
       "    <tr>\n",
       "      <th>36233995</th>\n",
       "      <td>1951-12-31</td>\n",
       "      <td>1 days 00:00:00</td>\n",
       "      <td>7.190</td>\n",
       "      <td>-8.081054</td>\n",
       "      <td>0</td>\n",
       "      <td>0.0</td>\n",
       "      <td>1952-01-01 00:00:00</td>\n",
       "      <td>NaN</td>\n",
       "    </tr>\n",
       "    <tr>\n",
       "      <th>36233996</th>\n",
       "      <td>1951-12-31</td>\n",
       "      <td>1 days 00:00:00</td>\n",
       "      <td>7.190</td>\n",
       "      <td>-7.981041</td>\n",
       "      <td>0</td>\n",
       "      <td>0.0</td>\n",
       "      <td>1952-01-01 00:00:00</td>\n",
       "      <td>NaN</td>\n",
       "    </tr>\n",
       "    <tr>\n",
       "      <th>36233997</th>\n",
       "      <td>1951-12-31</td>\n",
       "      <td>1 days 00:00:00</td>\n",
       "      <td>7.190</td>\n",
       "      <td>-7.881027</td>\n",
       "      <td>0</td>\n",
       "      <td>0.0</td>\n",
       "      <td>1952-01-01 00:00:00</td>\n",
       "      <td>NaN</td>\n",
       "    </tr>\n",
       "    <tr>\n",
       "      <th>36233998</th>\n",
       "      <td>1951-12-31</td>\n",
       "      <td>1 days 00:00:00</td>\n",
       "      <td>7.190</td>\n",
       "      <td>-7.781014</td>\n",
       "      <td>0</td>\n",
       "      <td>0.0</td>\n",
       "      <td>1952-01-01 00:00:00</td>\n",
       "      <td>NaN</td>\n",
       "    </tr>\n",
       "    <tr>\n",
       "      <th>36233999</th>\n",
       "      <td>1951-12-31</td>\n",
       "      <td>1 days 00:00:00</td>\n",
       "      <td>7.190</td>\n",
       "      <td>-7.681000</td>\n",
       "      <td>0</td>\n",
       "      <td>0.0</td>\n",
       "      <td>1952-01-01 00:00:00</td>\n",
       "      <td>NaN</td>\n",
       "    </tr>\n",
       "  </tbody>\n",
       "</table>\n",
       "<p>36234000 rows × 8 columns</p>\n",
       "</div>"
      ]
     },
     "execution_count": 22,
     "metadata": {},
     "output_type": "execute_result"
    }
   ],
   "execution_count": 22
  },
  {
   "metadata": {},
   "cell_type": "code",
   "outputs": [],
   "execution_count": null,
   "source": "",
   "id": "57353b60295f7b51"
  }
 ],
 "metadata": {
  "kernelspec": {
   "display_name": "Python 3",
   "language": "python",
   "name": "python3"
  },
  "language_info": {
   "codemirror_mode": {
    "name": "ipython",
    "version": 2
   },
   "file_extension": ".py",
   "mimetype": "text/x-python",
   "name": "python",
   "nbconvert_exporter": "python",
   "pygments_lexer": "ipython2",
   "version": "2.7.6"
  }
 },
 "nbformat": 4,
 "nbformat_minor": 5
}
