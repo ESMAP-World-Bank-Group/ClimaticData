{
 "cells": [
  {
   "metadata": {},
   "cell_type": "markdown",
   "source": "## Getting ERA5-Land monthly via Python API",
   "id": "2289ccbfdea1c99f"
  },
  {
   "metadata": {
    "collapsed": true,
    "ExecuteTime": {
     "end_time": "2025-04-22T12:04:20.512302Z",
     "start_time": "2025-04-22T12:04:19.509739Z"
    }
   },
   "cell_type": "code",
   "source": [
    "import cdsapi\n",
    "import timeit\n",
    "import os\n",
    "from utils import *\n",
    "import xarray as xr\n",
    "import zipfile\n",
    "from matplotlib import pyplot as plt"
   ],
   "id": "initial_id",
   "outputs": [],
   "execution_count": 1
  },
  {
   "metadata": {},
   "cell_type": "markdown",
   "source": "### User Input",
   "id": "8cc6a26a1c824a1e"
  },
  {
   "metadata": {
    "ExecuteTime": {
     "end_time": "2025-04-22T12:04:20.518927Z",
     "start_time": "2025-04-22T12:04:20.515553Z"
    }
   },
   "cell_type": "code",
   "source": [
    "ISO_A2 = 'GN'\n",
    "\n",
    "start_year = 1950                                            # from 1950\n",
    "end_year = 2025\n",
    "\n",
    "variables_list = ['2m_temperature',\n",
    "                  'total_precipitation',\n",
    "                  'runoff',\n",
    "                  'potential_evaporation',\n",
    "                  'total_evaporation'\n",
    "                 ]# to present year\n",
    "\n",
    "folder = 'era5'\n",
    "if not os.path.exists(folder): os.mkdir(folder)\n",
    "folder_api = os.path.join(folder, 'era5_api')\n",
    "if not os.path.exists(folder_api): os.mkdir(folder_api)\n",
    "folder_extract = os.path.join(folder, 'era5_extract')\n",
    "if not os.path.exists(folder_extract): os.mkdir(folder_extract)\n",
    "folder_output = os.path.join(folder, 'output')\n",
    "if not os.path.exists(folder_output): os.mkdir(folder_output)\n",
    "folder_output = os.path.join(folder_output, ISO_A2)\n",
    "if not os.path.exists(folder_output): os.mkdir(folder_output)"
   ],
   "id": "ee58d3da3ed64b66",
   "outputs": [],
   "execution_count": 2
  },
  {
   "metadata": {},
   "cell_type": "markdown",
   "source": "### Processing Data",
   "id": "1dc558963356b19b"
  },
  {
   "metadata": {
    "ExecuteTime": {
     "end_time": "2025-04-22T12:04:20.699791Z",
     "start_time": "2025-04-22T12:04:20.593700Z"
    }
   },
   "cell_type": "code",
   "source": [
    "dataset = 'reanalysis-era5-land-monthly-means'# 'reanalysis-era5-land'\n",
    "variable_name = {\n",
    "    'total_precipitation': 'tp',\n",
    "    'surface_runoff': 'sro',\n",
    "    'runoff': 'ro',\n",
    "    'snow_depth_water_equivalent': 'sd',\n",
    "    '2m_temperature': 't2m',\n",
    "    'potential_evaporation': 'pev',\n",
    "    'total_evaporation': 'e'\n",
    "}\n",
    "\n",
    "temp = '_'.join([variable_name[variable] for variable in variables_list])\n",
    "downloaded_file = f'{dataset}_{ISO_A2}_{start_year}_{end_year}_{temp}.zip'\n",
    "print(f'File to download: {downloaded_file}')\n",
    "\n",
    "long_west, lat_south, long_east, lat_north = get_bbox(ISO_A2)\n",
    "print(long_west, lat_south, long_east, lat_north)\n"
   ],
   "id": "537831101f5d390a",
   "outputs": [
    {
     "name": "stdout",
     "output_type": "stream",
     "text": [
      "File to download: reanalysis-era5-land-monthly-means_GN_1950_2025_t2m_tp_ro_pev_e.zip\n",
      "-15.081125454999949 7.190208232000103 -7.662447469999961 12.673387757000029\n"
     ]
    }
   ],
   "execution_count": 3
  },
  {
   "metadata": {},
   "cell_type": "markdown",
   "source": "### API Climate Data Store",
   "id": "4175f01ed86f889"
  },
  {
   "metadata": {
    "ExecuteTime": {
     "end_time": "2025-04-22T12:04:20.716409Z",
     "start_time": "2025-04-22T12:04:20.712782Z"
    }
   },
   "cell_type": "code",
   "source": [
    "years = [ str(start_year +i ) for i in range(end_year - start_year + 1)]\n",
    "if not os.path.exists(folder_api): os.mkdir(folder_api)\n",
    "downloaded_file = os.path.join(folder_api, downloaded_file)\n",
    "\n",
    "if not os.path.exists(downloaded_file):\n",
    "    print('Process started. Please wait the ending message ... ')\n",
    "    start = timeit.default_timer()\n",
    "    c = cdsapi.Client()\n",
    "\n",
    "    c.retrieve(\n",
    "        dataset,\n",
    "        {\n",
    "            'format': 'netcdf',\n",
    "            #'format': 'grib',\n",
    "            'product_type': 'monthly_averaged_reanalysis',\n",
    "            'variable': variables_list,\n",
    "            'year': years,\n",
    "            'month': [ '01', '02', '03', '04', '05', '06', '07', '08', '09', '10', '11', '12' ],\n",
    "            'time': '00:00',\n",
    "            'area': [ lat_south, long_west, lat_north, long_east ],\n",
    "        }, downloaded_file\n",
    "        )\n",
    "\n",
    "    stop = timeit.default_timer()\n",
    "    print('Process completed in ', (stop - start)/60, ' minutes')\n",
    "else:\n",
    "    print('File already exists.')"
   ],
   "id": "e947a3c2e2008ef",
   "outputs": [
    {
     "name": "stdout",
     "output_type": "stream",
     "text": [
      "File already exists.\n"
     ]
    }
   ],
   "execution_count": 4
  },
  {
   "metadata": {},
   "cell_type": "markdown",
   "source": "",
   "id": "a6dc09437e03eafd"
  },
  {
   "metadata": {
    "ExecuteTime": {
     "end_time": "2025-04-22T12:04:30.787746Z",
     "start_time": "2025-04-22T12:04:20.728183Z"
    }
   },
   "cell_type": "code",
   "source": [
    "ds_raw = extract_data(downloaded_file, step_type=True, extract_to=folder_extract)\n",
    "print(ds_raw)"
   ],
   "id": "78b19284418d9d1b",
   "outputs": [
    {
     "name": "stdout",
     "output_type": "stream",
     "text": [
      "Opening GRIB file: era5/era5_extract/reanalysis-era5-land-monthly-means_GN_1950_2025_t2m_tp_ro_pev_e.grib\n"
     ]
    },
    {
     "name": "stderr",
     "output_type": "stream",
     "text": [
      "Ignoring index file 'era5/era5_extract/reanalysis-era5-land-monthly-means_GN_1950_2025_t2m_tp_ro_pev_e.grib.5b7b6.idx' older than GRIB file\n",
      "Ignoring index file 'era5/era5_extract/reanalysis-era5-land-monthly-means_GN_1950_2025_t2m_tp_ro_pev_e.grib.5b7b6.idx' older than GRIB file\n",
      "Ignoring index file 'era5/era5_extract/reanalysis-era5-land-monthly-means_GN_1950_2025_t2m_tp_ro_pev_e.grib.5b7b6.idx' older than GRIB file\n"
     ]
    },
    {
     "name": "stdout",
     "output_type": "stream",
     "text": [
      "Opening GRIB file: era5/era5_extract/reanalysis-era5-land-monthly-means_GN_1950_2025_t2m_tp_ro_pev_e.grib\n"
     ]
    },
    {
     "name": "stderr",
     "output_type": "stream",
     "text": [
      "Ignoring index file 'era5/era5_extract/reanalysis-era5-land-monthly-means_GN_1950_2025_t2m_tp_ro_pev_e.grib.5b7b6.idx' older than GRIB file\n"
     ]
    },
    {
     "name": "stdout",
     "output_type": "stream",
     "text": [
      "<xarray.Dataset> Size: 75MB\n",
      "Dimensions:     (time: 903, latitude: 55, longitude: 75)\n",
      "Coordinates:\n",
      "  * time        (time) datetime64[ns] 7kB 1950-01-01 1950-02-01 ... 2025-03-01\n",
      "  * latitude    (latitude) float64 440B 12.59 12.49 12.39 ... 7.391 7.291 7.19\n",
      "  * longitude   (longitude) float64 600B -15.08 -14.98 -14.88 ... -7.781 -7.681\n",
      "    number      int64 8B 0\n",
      "    step        timedelta64[ns] 8B 1 days\n",
      "    surface     float64 8B 0.0\n",
      "    valid_time  (time) datetime64[ns] 7kB 1950-01-02 1950-02-02 ... 2025-03-02\n",
      "Data variables:\n",
      "    t2m         (time, latitude, longitude) float32 15MB ...\n",
      "    tp          (time, latitude, longitude) float32 15MB 1.261e-06 ... 0.002352\n",
      "    ro          (time, latitude, longitude) float32 15MB 0.0001033 ... 3.789e-05\n",
      "    pev         (time, latitude, longitude) float32 15MB -0.0111 ... -0.009597\n",
      "    e           (time, latitude, longitude) float32 15MB -0.002137 ... -0.002698\n",
      "Attributes:\n",
      "    GRIB_edition:            1\n",
      "    GRIB_centre:             ecmf\n",
      "    GRIB_centreDescription:  European Centre for Medium-Range Weather Forecasts\n",
      "    GRIB_subCentre:          0\n",
      "    Conventions:             CF-1.7\n",
      "    institution:             European Centre for Medium-Range Weather Forecasts\n",
      "    history:                 2025-04-22T14:04 GRIB to CDM+CF via cfgrib-0.9.1...\n"
     ]
    }
   ],
   "execution_count": 5
  },
  {
   "metadata": {
    "ExecuteTime": {
     "end_time": "2025-04-22T12:04:30.809276Z",
     "start_time": "2025-04-22T12:04:30.802687Z"
    }
   },
   "cell_type": "code",
   "source": [
    "calculate_resolution_netcdf(ds_raw, lat_name='latitude', lon_name='longitude')\n",
    "\n",
    "for var in ds_raw.data_vars:\n",
    "    print(f\"{var}: {ds_raw[var].attrs['units']}\")"
   ],
   "id": "ec25b7d23b833191",
   "outputs": [
    {
     "name": "stdout",
     "output_type": "stream",
     "text": [
      "Spatial resolution: 0.10001351351351317° lon x -0.09999999999999964° lat\n",
      "Approximate spatial resolution:\n",
      "10.94 km (lon_name) x -11.10 km (lat_name) at 9.89° lat\n",
      "Temporal resolution: 31 days\n",
      "t2m: K\n",
      "tp: m\n",
      "ro: m\n",
      "pev: m\n",
      "e: m of water equivalent\n"
     ]
    }
   ],
   "execution_count": 6
  },
  {
   "metadata": {},
   "cell_type": "markdown",
   "source": "### Unit Conversion",
   "id": "cae6ff8ce45f00b3"
  },
  {
   "metadata": {
    "ExecuteTime": {
     "end_time": "2025-04-22T12:04:31.069633Z",
     "start_time": "2025-04-22T12:04:30.820243Z"
    }
   },
   "cell_type": "code",
   "source": "ds = convert_dataset_units(ds_raw)",
   "id": "1efa668b74948ff8",
   "outputs": [],
   "execution_count": 7
  },
  {
   "metadata": {},
   "cell_type": "markdown",
   "source": "## Export prepared data for future analysis",
   "id": "f20d8342554df080"
  },
  {
   "metadata": {
    "ExecuteTime": {
     "end_time": "2025-04-22T12:04:31.248994Z",
     "start_time": "2025-04-22T12:04:31.079684Z"
    }
   },
   "cell_type": "code",
   "source": "ds.to_netcdf(os.path.join(folder_output, f\"{ os.path.splitext(os.path.basename(downloaded_file))[0]}.nc\"))",
   "id": "40a5b211a4a14d27",
   "outputs": [],
   "execution_count": 8
  },
  {
   "metadata": {
    "ExecuteTime": {
     "end_time": "2025-04-22T12:04:33.529340Z",
     "start_time": "2025-04-22T12:04:31.258278Z"
    }
   },
   "cell_type": "code",
   "source": [
    "plot_spatial_mean_timeseries_all_vars(ds, folder=folder_output)\n",
    "plot_monthly_climatology_grid(ds, \"ro\", folder=folder_output)\n",
    "plot_monthly_climatology_grid(ds, \"tp\", folder=folder_output)"
   ],
   "id": "e92d29102fbc968",
   "outputs": [],
   "execution_count": 9
  },
  {
   "metadata": {
    "ExecuteTime": {
     "end_time": "2025-04-22T12:04:33.543693Z",
     "start_time": "2025-04-22T12:04:33.540281Z"
    }
   },
   "cell_type": "code",
   "source": "ds['ro'].units.replace('/', '-')",
   "id": "4879f1ba8a7e87b9",
   "outputs": [
    {
     "data": {
      "text/plain": [
       "'mm-day'"
      ]
     },
     "execution_count": 10,
     "metadata": {},
     "output_type": "execute_result"
    }
   ],
   "execution_count": 10
  },
  {
   "metadata": {},
   "cell_type": "markdown",
   "source": "## Spatial Mean",
   "id": "4a2c598ce090af0d"
  },
  {
   "metadata": {
    "ExecuteTime": {
     "end_time": "2025-04-22T12:04:34.672384Z",
     "start_time": "2025-04-22T12:04:33.614940Z"
    }
   },
   "cell_type": "code",
   "source": [
    "catchment_geojson = 'catchment_files/stationbasins_guinea.geojson'\n",
    "data_catchment = gpd.read_file(catchment_geojson)\n",
    "\n",
    "df = calculate_spatial_mean_annual(ds, data_catchment, lat_name='latitude', lon_name='longitude')\n",
    "df.to_csv(os.path.join(folder_output, f'{dataset}_{ISO_A2}_monthly.csv'), index=False)\n",
    "\n",
    "df_yearly = convert_to_yearly_mm_year(df.copy(), var_name=\"ro\", unit_init='mm/day')\n",
    "df_yearly.replace(0, pd.NA, inplace=True) # Assume 0 is missing data\n",
    "df_yearly.pivot(index='year', columns='region').to_csv(os.path.join(folder_output, f'{dataset}_{ISO_A2}_runoff_mm-year.csv'), index=True)\n",
    "\n",
    "df_yearly = convert_to_yearly_mm_year(df.copy(), var_name=\"tp\", unit_init='mm/day')\n",
    "df_yearly.pivot(index='year', columns='region').to_csv(os.path.join(folder_output, f'{dataset}_{ISO_A2}_precipitation_mm-year.csv'), index=True)"
   ],
   "id": "c5b2290935520aed",
   "outputs": [
    {
     "name": "stdout",
     "output_type": "stream",
     "text": [
      "\n",
      "📦 DataArray bounds:\n",
      "  lon_name (longitude): -15.0820 to -7.6810\n",
      "  lat_name (latitude):  7.1900 to 12.5910\n",
      "  lon_name: -13.0750 to -7.6583\n",
      "  lat_name:  7.9917 to 11.9167\n",
      "\n",
      "✅ Overlap detected.\n",
      "\n",
      "Region BADERA\n",
      "\n",
      "📦 DataArray bounds:\n",
      "  lon_name (longitude): -15.0820 to -7.6810\n",
      "  lat_name (latitude):  7.1900 to 12.5910\n",
      "  lon_name: -12.8750 to -12.2000\n",
      "  lat_name:  9.8500 to 10.4542\n",
      "\n",
      "✅ Overlap detected.\n",
      "\n",
      "Region DIAWLA\n",
      "\n",
      "📦 DataArray bounds:\n",
      "  lon_name (longitude): -15.0820 to -7.6810\n",
      "  lat_name (latitude):  7.1900 to 12.5910\n",
      "  lon_name: -12.4333 to -12.2208\n",
      "  lat_name:  11.0708 to 11.3375\n",
      "\n",
      "✅ Overlap detected.\n",
      "\n",
      "Region NONGOA\n",
      "\n",
      "📦 DataArray bounds:\n",
      "  lon_name (longitude): -15.0820 to -7.6810\n",
      "  lat_name (latitude):  7.1900 to 12.5910\n",
      "  lon_name: -10.3875 to -9.2667\n",
      "  lat_name:  8.3042 to 9.1833\n",
      "\n",
      "✅ Overlap detected.\n",
      "\n",
      "Region BAC\n",
      "\n",
      "📦 DataArray bounds:\n",
      "  lon_name (longitude): -15.0820 to -7.6810\n",
      "  lat_name (latitude):  7.1900 to 12.5910\n",
      "  lon_name: -9.3542 to -8.6500\n",
      "  lat_name:  7.9917 to 8.8167\n",
      "\n",
      "✅ Overlap detected.\n",
      "\n",
      "Region FARANAH\n",
      "\n",
      "📦 DataArray bounds:\n",
      "  lon_name (longitude): -15.0820 to -7.6810\n",
      "  lat_name (latitude):  7.1900 to 12.5910\n",
      "  lon_name: -10.9292 to -10.4667\n",
      "  lat_name:  9.0792 to 10.0417\n",
      "\n",
      "✅ Overlap detected.\n",
      "\n",
      "Region KISSIDOUGOU\n",
      "\n",
      "📦 DataArray bounds:\n",
      "  lon_name (longitude): -15.0820 to -7.6810\n",
      "  lat_name (latitude):  7.1900 to 12.5910\n",
      "  lon_name: -10.4667 to -10.0042\n",
      "  lat_name:  8.9667 to 9.2708\n",
      "\n",
      "✅ Overlap detected.\n",
      "\n",
      "Region KOUROUSSA\n",
      "\n",
      "📦 DataArray bounds:\n",
      "  lon_name (longitude): -15.0820 to -7.6810\n",
      "  lat_name (latitude):  7.1900 to 12.5910\n",
      "  lon_name: -11.2542 to -9.8208\n",
      "  lat_name:  9.0792 to 10.7667\n",
      "\n",
      "✅ Overlap detected.\n",
      "\n",
      "Region BARO\n",
      "\n",
      "📦 DataArray bounds:\n",
      "  lon_name (longitude): -15.0820 to -7.6810\n",
      "  lat_name (latitude):  7.1900 to 12.5910\n",
      "  lon_name: -10.4667 to -9.2750\n",
      "  lat_name:  8.9583 to 10.6167\n",
      "\n",
      "✅ Overlap detected.\n",
      "\n",
      "Region KANKAN\n",
      "\n",
      "📦 DataArray bounds:\n",
      "  lon_name (longitude): -15.0820 to -7.6810\n",
      "  lat_name (latitude):  7.1900 to 12.5910\n",
      "  lon_name: -9.6417 to -8.8625\n",
      "  lat_name:  8.6333 to 10.5042\n",
      "\n",
      "✅ Overlap detected.\n",
      "\n",
      "Region KONSANKORO\n",
      "\n",
      "📦 DataArray bounds:\n",
      "  lon_name (longitude): -15.0820 to -7.6810\n",
      "  lat_name (latitude):  7.1900 to 12.5910\n",
      "  lon_name: -9.3000 to -8.8667\n",
      "  lat_name:  8.6333 to 9.0500\n",
      "\n",
      "✅ Overlap detected.\n",
      "\n",
      "Region KEROUANE\n",
      "\n",
      "📦 DataArray bounds:\n",
      "  lon_name (longitude): -15.0820 to -7.6810\n",
      "  lat_name (latitude):  7.1900 to 12.5910\n",
      "  lon_name: -9.3000 to -8.8667\n",
      "  lat_name:  8.6333 to 9.3042\n",
      "\n",
      "✅ Overlap detected.\n",
      "\n",
      "Region OUARAN\n",
      "\n",
      "📦 DataArray bounds:\n",
      "  lon_name (longitude): -15.0820 to -7.6810\n",
      "  lat_name (latitude):  7.1900 to 12.5910\n",
      "  lon_name: -11.5875 to -9.6042\n",
      "  lat_name:  10.3042 to 11.9167\n",
      "\n",
      "✅ Overlap detected.\n",
      "\n",
      "Region TINKISSO\n",
      "\n",
      "📦 DataArray bounds:\n",
      "  lon_name (longitude): -15.0820 to -7.6810\n",
      "  lat_name (latitude):  7.1900 to 12.5910\n",
      "  lon_name: -11.5875 to -10.4500\n",
      "  lat_name:  10.3042 to 11.4917\n",
      "\n",
      "✅ Overlap detected.\n",
      "\n",
      "Region DIALAKORO\n",
      "\n",
      "📦 DataArray bounds:\n",
      "  lon_name (longitude): -15.0820 to -7.6810\n",
      "  lat_name (latitude):  7.1900 to 12.5910\n",
      "  lon_name: -11.5875 to -8.7917\n",
      "  lat_name:  8.6333 to 11.9167\n",
      "\n",
      "✅ Overlap detected.\n",
      "\n",
      "Region MANDIANA\n",
      "\n",
      "📦 DataArray bounds:\n",
      "  lon_name (longitude): -15.0820 to -7.6810\n",
      "  lat_name (latitude):  7.1900 to 12.5910\n",
      "  lon_name: -9.0833 to -7.6583\n",
      "  lat_name:  8.5583 to 10.7292\n",
      "\n",
      "✅ Overlap detected.\n",
      "\n",
      "Region PONT DE TELIMELE\n",
      "\n",
      "📦 DataArray bounds:\n",
      "  lon_name (longitude): -15.0820 to -7.6810\n",
      "  lat_name (latitude):  7.1900 to 12.5910\n",
      "  lon_name: -13.0750 to -12.1167\n",
      "  lat_name:  10.1083 to 11.5375\n",
      "\n",
      "✅ Overlap detected.\n",
      "\n",
      "Region DABOLA\n",
      "\n",
      "📦 DataArray bounds:\n",
      "  lon_name (longitude): -15.0820 to -7.6810\n",
      "  lat_name (latitude):  7.1900 to 12.5910\n",
      "  lon_name: -11.5875 to -11.0542\n",
      "  lat_name:  10.3042 to 10.7833\n",
      "\n",
      "✅ Overlap detected.\n",
      "\n",
      "Region TIGUIBERY\n",
      "\n",
      "📦 DataArray bounds:\n",
      "  lon_name (longitude): -15.0820 to -7.6810\n",
      "  lat_name (latitude):  7.1900 to 12.5910\n",
      "  lon_name: -11.5875 to -8.7917\n",
      "  lat_name:  8.6333 to 11.9167\n",
      "\n",
      "✅ Overlap detected.\n",
      "\n"
     ]
    }
   ],
   "execution_count": 11
  },
  {
   "metadata": {
    "ExecuteTime": {
     "end_time": "2025-04-22T12:04:34.688875Z",
     "start_time": "2025-04-22T12:04:34.687257Z"
    }
   },
   "cell_type": "code",
   "source": "",
   "id": "ec428ed6f59531a2",
   "outputs": [],
   "execution_count": null
  }
 ],
 "metadata": {
  "kernelspec": {
   "display_name": "Python 3",
   "language": "python",
   "name": "python3"
  },
  "language_info": {
   "codemirror_mode": {
    "name": "ipython",
    "version": 2
   },
   "file_extension": ".py",
   "mimetype": "text/x-python",
   "name": "python",
   "nbconvert_exporter": "python",
   "pygments_lexer": "ipython2",
   "version": "2.7.6"
  }
 },
 "nbformat": 4,
 "nbformat_minor": 5
}
