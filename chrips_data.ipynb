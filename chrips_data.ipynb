{
 "cells": [
  {
   "cell_type": "code",
   "id": "initial_id",
   "metadata": {
    "collapsed": true,
    "ExecuteTime": {
     "end_time": "2025-04-22T12:00:46.234934Z",
     "start_time": "2025-04-22T12:00:45.093707Z"
    }
   },
   "source": [
    "import numpy as np\n",
    "import pandas as pd\n",
    "import xarray as xr\n",
    "from utils import *"
   ],
   "outputs": [],
   "execution_count": 1
  },
  {
   "metadata": {},
   "cell_type": "markdown",
   "source": "### Input Data",
   "id": "644ea3f99443188a"
  },
  {
   "metadata": {
    "ExecuteTime": {
     "end_time": "2025-04-22T12:00:46.341537Z",
     "start_time": "2025-04-22T12:00:46.239955Z"
    }
   },
   "cell_type": "code",
   "source": [
    "ISO_A2 = 'GN'\n",
    "\n",
    "long_west, lat_south, long_east, lat_north = get_bbox(ISO_A2)\n",
    "print(long_west, lat_south, long_east, lat_north)\n",
    "dataset = 'CHIRPS'\n",
    "folder = 'CHIRPS'\n",
    "folder_out = os.path.join(folder, 'output')\n",
    "if not os.path.exists(folder_out): os.makedirs(folder_out)\n",
    "folder_out = os.path.join(folder_out, ISO_A2)\n",
    "if not os.path.exists(folder_out): os.makedirs(folder_out)"
   ],
   "id": "a1545f24b0c3e5f7",
   "outputs": [
    {
     "name": "stdout",
     "output_type": "stream",
     "text": [
      "-15.081125454999949 7.190208232000103 -7.662447469999961 12.673387757000029\n"
     ]
    }
   ],
   "execution_count": 2
  },
  {
   "metadata": {
    "ExecuteTime": {
     "end_time": "2025-04-22T12:00:47.288790Z",
     "start_time": "2025-04-22T12:00:46.434429Z"
    }
   },
   "cell_type": "code",
   "source": [
    "# load chirps global monthly precipitation data\n",
    "chirps = xr.open_dataset(os.path.join(folder, 'chirps-v2.0.monthly.nc'))\n",
    "# select precipitation variable\n",
    "#pr = chirps['precip']\n",
    "# select boundaries (xmin, xmax, ymin and ymax) and time period of interest\n",
    "chirps = chirps.sel(longitude=slice(long_west,long_east), latitude=slice(lat_south,lat_north),time=slice('1981','2020'))\n",
    "\n",
    "#del chirps"
   ],
   "id": "c0ea1fb02672eed6",
   "outputs": [],
   "execution_count": 3
  },
  {
   "metadata": {},
   "cell_type": "markdown",
   "source": "### Visualization",
   "id": "9c1090ab733f6375"
  },
  {
   "metadata": {
    "ExecuteTime": {
     "end_time": "2025-04-22T12:00:49.115673Z",
     "start_time": "2025-04-22T12:00:47.295845Z"
    }
   },
   "cell_type": "code",
   "source": [
    "plot_mean_map(chirps, 'precip', folder=folder_out)\n",
    "plot_spatial_mean_timeseries_all_vars(chirps, lat_name='latitude', lon_name='longitude', folder=folder_out)\n",
    "plot_monthly_climatology_grid(chirps, 'precip', folder=folder_out)"
   ],
   "id": "c6dfdbfbfcfd8b65",
   "outputs": [],
   "execution_count": 4
  },
  {
   "metadata": {},
   "cell_type": "markdown",
   "source": "### Extracting Data",
   "id": "1190745d75ea20b6"
  },
  {
   "metadata": {
    "ExecuteTime": {
     "end_time": "2025-04-22T12:00:49.517245Z",
     "start_time": "2025-04-22T12:00:49.122542Z"
    }
   },
   "cell_type": "code",
   "source": [
    "catchment_geojson = 'catchment_files/stationbasins_guinea.geojson'\n",
    "data_catchment = gpd.read_file(catchment_geojson)\n",
    "\n",
    "df = calculate_spatial_mean_annual(chirps, data_catchment, lat_name='latitude', lon_name='longitude')\n",
    "df.to_csv(os.path.join(folder_out, f'{dataset}_{ISO_A2}_monthly.csv'), index=False)\n",
    "\n",
    "df_yearly = convert_to_yearly_mm_year(df.copy(), var_name=\"precip\", unit_init='mm/month')\n",
    "df_yearly.pivot(index='year', columns='region').to_csv(os.path.join(folder_out, f'{dataset}_{ISO_A2}_precipitation_mm-year.csv'), index=True)"
   ],
   "id": "725b99b739d3f7e4",
   "outputs": [
    {
     "name": "stdout",
     "output_type": "stream",
     "text": [
      "\n",
      "📦 DataArray bounds:\n",
      "  lon_name (longitude): -15.0750 to -7.6750\n",
      "  lat_name (latitude):  7.2250 to 12.6250\n",
      "  lon_name: -13.0750 to -7.6583\n",
      "  lat_name:  7.9917 to 11.9167\n",
      "\n",
      "✅ Overlap detected.\n",
      "\n",
      "Region BADERA\n",
      "\n",
      "📦 DataArray bounds:\n",
      "  lon_name (longitude): -15.0750 to -7.6750\n",
      "  lat_name (latitude):  7.2250 to 12.6250\n",
      "  lon_name: -12.8750 to -12.2000\n",
      "  lat_name:  9.8500 to 10.4542\n",
      "\n",
      "✅ Overlap detected.\n",
      "\n",
      "Region DIAWLA\n",
      "\n",
      "📦 DataArray bounds:\n",
      "  lon_name (longitude): -15.0750 to -7.6750\n",
      "  lat_name (latitude):  7.2250 to 12.6250\n",
      "  lon_name: -12.4333 to -12.2208\n",
      "  lat_name:  11.0708 to 11.3375\n",
      "\n",
      "✅ Overlap detected.\n",
      "\n",
      "Region NONGOA\n",
      "\n",
      "📦 DataArray bounds:\n",
      "  lon_name (longitude): -15.0750 to -7.6750\n",
      "  lat_name (latitude):  7.2250 to 12.6250\n",
      "  lon_name: -10.3875 to -9.2667\n",
      "  lat_name:  8.3042 to 9.1833\n",
      "\n",
      "✅ Overlap detected.\n",
      "\n",
      "Region BAC\n",
      "\n",
      "📦 DataArray bounds:\n",
      "  lon_name (longitude): -15.0750 to -7.6750\n",
      "  lat_name (latitude):  7.2250 to 12.6250\n",
      "  lon_name: -9.3542 to -8.6500\n",
      "  lat_name:  7.9917 to 8.8167\n",
      "\n",
      "✅ Overlap detected.\n",
      "\n",
      "Region FARANAH\n",
      "\n",
      "📦 DataArray bounds:\n",
      "  lon_name (longitude): -15.0750 to -7.6750\n",
      "  lat_name (latitude):  7.2250 to 12.6250\n",
      "  lon_name: -10.9292 to -10.4667\n",
      "  lat_name:  9.0792 to 10.0417\n",
      "\n",
      "✅ Overlap detected.\n",
      "\n",
      "Region KISSIDOUGOU\n",
      "\n",
      "📦 DataArray bounds:\n",
      "  lon_name (longitude): -15.0750 to -7.6750\n",
      "  lat_name (latitude):  7.2250 to 12.6250\n",
      "  lon_name: -10.4667 to -10.0042\n",
      "  lat_name:  8.9667 to 9.2708\n",
      "\n",
      "✅ Overlap detected.\n",
      "\n",
      "Region KOUROUSSA\n",
      "\n",
      "📦 DataArray bounds:\n",
      "  lon_name (longitude): -15.0750 to -7.6750\n",
      "  lat_name (latitude):  7.2250 to 12.6250\n",
      "  lon_name: -11.2542 to -9.8208\n",
      "  lat_name:  9.0792 to 10.7667\n",
      "\n",
      "✅ Overlap detected.\n",
      "\n",
      "Region BARO\n",
      "\n",
      "📦 DataArray bounds:\n",
      "  lon_name (longitude): -15.0750 to -7.6750\n",
      "  lat_name (latitude):  7.2250 to 12.6250\n",
      "  lon_name: -10.4667 to -9.2750\n",
      "  lat_name:  8.9583 to 10.6167\n",
      "\n",
      "✅ Overlap detected.\n",
      "\n",
      "Region KANKAN\n",
      "\n",
      "📦 DataArray bounds:\n",
      "  lon_name (longitude): -15.0750 to -7.6750\n",
      "  lat_name (latitude):  7.2250 to 12.6250\n",
      "  lon_name: -9.6417 to -8.8625\n",
      "  lat_name:  8.6333 to 10.5042\n",
      "\n",
      "✅ Overlap detected.\n",
      "\n",
      "Region KONSANKORO\n",
      "\n",
      "📦 DataArray bounds:\n",
      "  lon_name (longitude): -15.0750 to -7.6750\n",
      "  lat_name (latitude):  7.2250 to 12.6250\n",
      "  lon_name: -9.3000 to -8.8667\n",
      "  lat_name:  8.6333 to 9.0500\n",
      "\n",
      "✅ Overlap detected.\n",
      "\n",
      "Region KEROUANE\n",
      "\n",
      "📦 DataArray bounds:\n",
      "  lon_name (longitude): -15.0750 to -7.6750\n",
      "  lat_name (latitude):  7.2250 to 12.6250\n",
      "  lon_name: -9.3000 to -8.8667\n",
      "  lat_name:  8.6333 to 9.3042\n",
      "\n",
      "✅ Overlap detected.\n",
      "\n",
      "Region OUARAN\n",
      "\n",
      "📦 DataArray bounds:\n",
      "  lon_name (longitude): -15.0750 to -7.6750\n",
      "  lat_name (latitude):  7.2250 to 12.6250\n",
      "  lon_name: -11.5875 to -9.6042\n",
      "  lat_name:  10.3042 to 11.9167\n",
      "\n",
      "✅ Overlap detected.\n",
      "\n",
      "Region TINKISSO\n",
      "\n",
      "📦 DataArray bounds:\n",
      "  lon_name (longitude): -15.0750 to -7.6750\n",
      "  lat_name (latitude):  7.2250 to 12.6250\n",
      "  lon_name: -11.5875 to -10.4500\n",
      "  lat_name:  10.3042 to 11.4917\n",
      "\n",
      "✅ Overlap detected.\n",
      "\n",
      "Region DIALAKORO\n",
      "\n",
      "📦 DataArray bounds:\n",
      "  lon_name (longitude): -15.0750 to -7.6750\n",
      "  lat_name (latitude):  7.2250 to 12.6250\n",
      "  lon_name: -11.5875 to -8.7917\n",
      "  lat_name:  8.6333 to 11.9167\n",
      "\n",
      "✅ Overlap detected.\n",
      "\n",
      "Region MANDIANA\n",
      "\n",
      "📦 DataArray bounds:\n",
      "  lon_name (longitude): -15.0750 to -7.6750\n",
      "  lat_name (latitude):  7.2250 to 12.6250\n",
      "  lon_name: -9.0833 to -7.6583\n",
      "  lat_name:  8.5583 to 10.7292\n",
      "\n",
      "✅ Overlap detected.\n",
      "\n",
      "Region PONT DE TELIMELE\n",
      "\n",
      "📦 DataArray bounds:\n",
      "  lon_name (longitude): -15.0750 to -7.6750\n",
      "  lat_name (latitude):  7.2250 to 12.6250\n",
      "  lon_name: -13.0750 to -12.1167\n",
      "  lat_name:  10.1083 to 11.5375\n",
      "\n",
      "✅ Overlap detected.\n",
      "\n",
      "Region DABOLA\n",
      "\n",
      "📦 DataArray bounds:\n",
      "  lon_name (longitude): -15.0750 to -7.6750\n",
      "  lat_name (latitude):  7.2250 to 12.6250\n",
      "  lon_name: -11.5875 to -11.0542\n",
      "  lat_name:  10.3042 to 10.7833\n",
      "\n",
      "✅ Overlap detected.\n",
      "\n",
      "Region TIGUIBERY\n",
      "\n",
      "📦 DataArray bounds:\n",
      "  lon_name (longitude): -15.0750 to -7.6750\n",
      "  lat_name (latitude):  7.2250 to 12.6250\n",
      "  lon_name: -11.5875 to -8.7917\n",
      "  lat_name:  8.6333 to 11.9167\n",
      "\n",
      "✅ Overlap detected.\n",
      "\n"
     ]
    }
   ],
   "execution_count": 5
  },
  {
   "metadata": {
    "ExecuteTime": {
     "end_time": "2025-04-22T12:00:49.529588Z",
     "start_time": "2025-04-22T12:00:49.528063Z"
    }
   },
   "cell_type": "code",
   "source": "",
   "id": "f5e9ed6e2dc57f1a",
   "outputs": [],
   "execution_count": null
  }
 ],
 "metadata": {
  "kernelspec": {
   "display_name": "Python 3",
   "language": "python",
   "name": "python3"
  },
  "language_info": {
   "codemirror_mode": {
    "name": "ipython",
    "version": 2
   },
   "file_extension": ".py",
   "mimetype": "text/x-python",
   "name": "python",
   "nbconvert_exporter": "python",
   "pygments_lexer": "ipython2",
   "version": "2.7.6"
  }
 },
 "nbformat": 4,
 "nbformat_minor": 5
}
