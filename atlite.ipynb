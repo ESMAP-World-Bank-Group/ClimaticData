{
 "cells": [
  {
   "cell_type": "markdown",
   "id": "44de9696a4505572",
   "metadata": {},
   "source": [
    "Atlite is a free software, xarray-based Python library for converting weather data (such as wind speeds, solar radiation, temperature and runoff) into power systems data (such as wind power, solar power, hydro power and heating demand time series).\n",
    "\n"
   ]
  },
  {
   "cell_type": "code",
   "id": "b4a2e2d0eece78e3",
   "metadata": {
    "ExecuteTime": {
     "end_time": "2025-03-25T16:24:16.291930Z",
     "start_time": "2025-03-25T16:24:16.284020Z"
    }
   },
   "source": [
    "\n",
    "import atlite\n",
    "from utils import get_bbox"
   ],
   "outputs": [],
   "execution_count": 10
  },
  {
   "cell_type": "code",
   "execution_count": 2,
   "id": "1e97aade",
   "metadata": {},
   "outputs": [],
   "source": [
    "ISO_A2 = 'GN'\n",
    "\n",
    "long_west, lat_south, long_east, lat_north = get_bbox(ISO_A2)"
   ]
  },
  {
   "cell_type": "code",
   "execution_count": 9,
   "id": "initial_id",
   "metadata": {
    "ExecuteTime": {
     "end_time": "2025-03-25T15:02:15.886162Z",
     "start_time": "2025-03-25T15:02:15.848181Z"
    },
    "collapsed": true
   },
   "outputs": [
    {
     "name": "stderr",
     "output_type": "stream",
     "text": [
      "2025-03-25 17:10:39,806 WARNING [2024-06-16T00:00:00] CDS API syntax is changed and some keys or parameter names may have also changed. To avoid requests failing, please use the \"Show API request code\" tool on the dataset Download Form to check you are using the correct syntax for your API request.\n",
      "2025-03-25 17:10:39,807 WARNING [2024-06-16T00:00:00] CDS API syntax is changed and some keys or parameter names may have also changed. To avoid requests failing, please use the \"Show API request code\" tool on the dataset Download Form to check you are using the correct syntax for your API request.\n",
      "2025-03-25 17:10:39,812 WARNING [2024-06-16T00:00:00] CDS API syntax is changed and some keys or parameter names may have also changed. To avoid requests failing, please use the \"Show API request code\" tool on the dataset Download Form to check you are using the correct syntax for your API request.\n",
      "2025-03-25 17:10:39,817 WARNING [2024-06-16T00:00:00] CDS API syntax is changed and some keys or parameter names may have also changed. To avoid requests failing, please use the \"Show API request code\" tool on the dataset Download Form to check you are using the correct syntax for your API request.\n",
      "2025-03-25 17:10:39,820 WARNING [2024-06-16T00:00:00] CDS API syntax is changed and some keys or parameter names may have also changed. To avoid requests failing, please use the \"Show API request code\" tool on the dataset Download Form to check you are using the correct syntax for your API request.\n",
      "Recovering from connection error [('Connection aborted.', RemoteDisconnected('Remote end closed connection without response'))], attempt 1 of 500\n",
      "Recovering from connection error [('Connection aborted.', RemoteDisconnected('Remote end closed connection without response'))], attempt 1 of 500\n",
      "Retrying in 120 seconds\n",
      "Retrying in 120 seconds\n",
      "Recovering from connection error [('Connection aborted.', RemoteDisconnected('Remote end closed connection without response'))], attempt 1 of 500\n",
      "Retrying in 120 seconds\n",
      "Recovering from connection error [('Connection aborted.', RemoteDisconnected('Remote end closed connection without response'))], attempt 1 of 500\n",
      "Retrying in 120 seconds\n",
      "Recovering from connection error [('Connection aborted.', RemoteDisconnected('Remote end closed connection without response'))], attempt 1 of 500\n",
      "Retrying in 120 seconds\n"
     ]
    }
   ],
   "source": [
    "cutout = atlite.Cutout(\n",
    "    ISO_A2,\n",
    "    module=\"era5\",\n",
    "    x=slice(x_west - 0.2, x_east + 0.2),\n",
    "    y=slice(y_south - 0.2, y_north + 0.2),\n",
    "    chunks={\"time\": 100}, \n",
    "    time=\"2012-01\" # Time interval within ['1979', '2018'] (with valid pandas date time strings)\n",
    ")\n",
    "\n",
    "cutout.prepare()"
   ]
  },
  {
   "cell_type": "code",
   "execution_count": null,
   "id": "c1d60010a1759a14",
   "metadata": {},
   "outputs": [],
   "source": [
    "# Get runoff data\n",
    "runoff = cutout.data.runoff\n",
    "\n",
    "# If you want to convert it to a pandas DataFrame\n",
    "runoff_df = runoff.to_dataframe()"
   ]
  },
  {
   "cell_type": "code",
   "execution_count": null,
   "id": "d72aeebc05743f68",
   "metadata": {},
   "outputs": [],
   "source": []
  }
 ],
 "metadata": {
  "kernelspec": {
   "display_name": "HydroData",
   "language": "python",
   "name": "python3"
  },
  "language_info": {
   "codemirror_mode": {
    "name": "ipython",
    "version": 3
   },
   "file_extension": ".py",
   "mimetype": "text/x-python",
   "name": "python",
   "nbconvert_exporter": "python",
   "pygments_lexer": "ipython3",
   "version": "3.10.16"
  }
 },
 "nbformat": 4,
 "nbformat_minor": 5
}
