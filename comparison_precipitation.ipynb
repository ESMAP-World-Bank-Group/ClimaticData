{
 "cells": [
  {
   "cell_type": "code",
   "id": "initial_id",
   "metadata": {
    "collapsed": true,
    "ExecuteTime": {
     "end_time": "2025-04-18T13:21:00.468692Z",
     "start_time": "2025-04-18T13:20:59.836455Z"
    }
   },
   "source": [
    "# Compare all data sources\n",
    "import pandas as pd\n",
    "import matplotlib.pyplot as plt\n",
    "import os"
   ],
   "outputs": [],
   "execution_count": 1
  },
  {
   "metadata": {
    "ExecuteTime": {
     "end_time": "2025-04-18T13:21:00.474686Z",
     "start_time": "2025-04-18T13:21:00.472180Z"
    }
   },
   "cell_type": "code",
   "source": [
    "path_precip_chirps = 'CHIRPS/output/GN/CHIPRS_GN_precipitation_mm-year.csv'\n",
    "path_precip_era5  = 'era5/output/GN/era5_GN_runoff_mm-year.csv'\n",
    "\n",
    "folder = 'comparison'\n",
    "if not os.path.exists(folder): os.makedirs(folder)"
   ],
   "id": "8c97a742ab141a84",
   "outputs": [],
   "execution_count": 2
  },
  {
   "metadata": {
    "ExecuteTime": {
     "end_time": "2025-04-18T13:21:00.559206Z",
     "start_time": "2025-04-18T13:21:00.550534Z"
    }
   },
   "cell_type": "code",
   "source": [
    "runoff_grun = pd.read_csv(path_runoff_grun, index_col=0, header=[0, 1])\n",
    "runoff_grun = runoff_grun.droplevel(0, axis=1)\n",
    "runoff_grdc = pd.read_csv(path_runoff_grdc, index_col=0, header=[0])\n",
    "runoff_era5 = pd.read_csv(path_runoff_era5, index_col=0, header=[0, 1])\n",
    "runoff_era5 = runoff_era5.droplevel(0, axis=1)"
   ],
   "id": "bc4fe1e6d98716b8",
   "outputs": [],
   "execution_count": 3
  },
  {
   "metadata": {
    "ExecuteTime": {
     "end_time": "2025-04-18T13:21:00.577118Z",
     "start_time": "2025-04-18T13:21:00.570556Z"
    }
   },
   "cell_type": "code",
   "source": [
    "def get_common_dataframes(data_dict):\n",
    "    \"\"\"\n",
    "    Align multiple DataFrames on shared rows (index) and columns.\n",
    "\n",
    "    Parameters:\n",
    "        data_dict (dict): Dictionary with names as keys and pandas DataFrames as values.\n",
    "                          Each DataFrame should have the same structure: rows = years, columns = stations.\n",
    "\n",
    "    Returns:\n",
    "        - aligned_data (dict): Dictionary of filtered DataFrames with only common years and stations.\n",
    "        - unmatched_columns (dict): Dictionary of unmatched station names per source.\n",
    "    \"\"\"\n",
    "    # Get the set of common years (index) and common stations (columns)\n",
    "    common_index = set.intersection(*[set(df.index) for df in data_dict.values()])\n",
    "    common_columns = set.intersection(*[set(df.columns) for df in data_dict.values()])\n",
    "\n",
    "    print(f\"✅ Common years: {len(common_index)}\")\n",
    "    print(f\"✅ Common stations: {len(common_columns)}\")\n",
    "\n",
    "    # Filter all dataframes\n",
    "    aligned_data = {\n",
    "        name: df.loc[sorted(common_index), sorted(common_columns)]\n",
    "        for name, df in data_dict.items()\n",
    "    }\n",
    "\n",
    "    # Report stations that are missing in each dataset\n",
    "    unmatched_columns = {\n",
    "        name: set(df.columns) - common_columns\n",
    "        for name, df in data_dict.items()\n",
    "    }\n",
    "\n",
    "    for name, unmatched in unmatched_columns.items():\n",
    "        print(f\"📌 Stations only in {name}: {unmatched}\")\n",
    "\n",
    "    return aligned_data, unmatched_columns\n",
    "\n",
    "def calculate_station_error(grun_df, grdc_df, method=\"rmse\"):\n",
    "    \"\"\"\n",
    "    Compute error metrics (e.g. RMSE, MAE, correlation) per station.\n",
    "    Assumes input DataFrames are aligned on years and stations.\n",
    "    \"\"\"\n",
    "    import numpy as np\n",
    "    results = {}\n",
    "\n",
    "    for station in grun_df.columns:\n",
    "        y_true = grdc_df[station]\n",
    "        y_pred = grun_df[station]\n",
    "\n",
    "        mask = y_true.notna() & y_pred.notna()\n",
    "        if mask.sum() == 0:\n",
    "            continue\n",
    "\n",
    "        if method == \"rmse\":\n",
    "            error = np.sqrt(np.mean((y_true[mask] - y_pred[mask])**2))\n",
    "        elif method == \"mae\":\n",
    "            error = np.mean(np.abs(y_true[mask] - y_pred[mask]))\n",
    "        elif method == \"corr\":\n",
    "            error = y_true[mask].corr(y_pred[mask])\n",
    "        else:\n",
    "            raise ValueError(\"Unsupported method\")\n",
    "\n",
    "        results[station] = error\n",
    "\n",
    "    return pd.Series(results, name=method)\n",
    "\n",
    "def plot_station_comparison_dict(data_dict, station, save_path=None):\n",
    "    \"\"\"\n",
    "    Plot runoff time series from multiple datasets for a single station.\n",
    "\n",
    "    Parameters:\n",
    "        data_dict (dict): keys are dataset names (e.g., 'GRUN', 'GRDC'),\n",
    "                          values are DataFrames with years as index and station names as columns\n",
    "        station (str): station name to plot\n",
    "        save_path (str or None): if provided, saves plot to file; else displays it\n",
    "    \"\"\"\n",
    "    plt.figure(figsize=(10, 4))\n",
    "\n",
    "    # Loop through all datasets and plot the station\n",
    "    for label, df in data_dict.items():\n",
    "        if station in df.columns:\n",
    "            plt.plot(df.index, df[station], label=label, marker='o')\n",
    "        else:\n",
    "            print(f\"⚠️ Station '{station}' not found in dataset '{label}' — skipping.\")\n",
    "\n",
    "    plt.title(f\"Runoff Comparison for Station: {station}\")\n",
    "    plt.xlabel(\"Year\")\n",
    "    plt.ylabel(\"Runoff (mm/year)\")\n",
    "    plt.legend()\n",
    "    plt.grid(True)\n",
    "\n",
    "    if save_path:\n",
    "        plt.savefig(save_path, dpi=300)\n",
    "        plt.close()\n",
    "    else:\n",
    "        plt.show()"
   ],
   "id": "fa09d38b6ec821af",
   "outputs": [],
   "execution_count": 4
  },
  {
   "metadata": {
    "ExecuteTime": {
     "end_time": "2025-04-18T13:21:03.602107Z",
     "start_time": "2025-04-18T13:21:00.587469Z"
    }
   },
   "cell_type": "code",
   "source": [
    "data_dict = {\n",
    "    \"GRUN\": runoff_grun,\n",
    "    \"GRDC\": runoff_grdc,\n",
    "    \"ERA5\": runoff_era5\n",
    "}\n",
    "\n",
    "aligned_data, unmatched_columns = get_common_dataframes(data_dict)\n",
    "\n",
    "grun_aligned = aligned_data[\"GRUN\"]\n",
    "grdc_aligned = aligned_data[\"GRDC\"]\n",
    "era5_aligned = aligned_data[\"ERA5\"]\n",
    "\n",
    "rmse_per_station = calculate_station_error(grun_aligned, grdc_aligned, method=\"rmse\")\n",
    "print(rmse_per_station.sort_values())\n",
    "\n",
    "data_aligned_dict = {\n",
    "    \"GRUN\": grun_aligned,\n",
    "    \"GRDC\": grdc_aligned,\n",
    "    \"ERA5\": era5_aligned\n",
    "}\n",
    "\n",
    "# Plot one station comparison\n",
    "for station in grun_aligned.columns:\n",
    "    plot_station_comparison_dict(data_aligned_dict, station=station, save_path=os.path.join(folder, f'comparison_{station}.png'))"
   ],
   "id": "17a50f26556c59ac",
   "outputs": [
    {
     "name": "stdout",
     "output_type": "stream",
     "text": [
      "✅ Common years: 65\n",
      "✅ Common stations: 18\n",
      "📌 Stations only in GRUN: set()\n",
      "📌 Stations only in GRDC: {'GAOUAL'}\n",
      "📌 Stations only in ERA5: set()\n",
      "KONSANKORO            76.175538\n",
      "MANDIANA              78.637768\n",
      "DIALAKORO             81.604306\n",
      "TIGUIBERY             99.933699\n",
      "BARO                 122.448649\n",
      "KANKAN               128.989196\n",
      "TINKISSO             139.224900\n",
      "FARANAH              150.216020\n",
      "OUARAN               158.831804\n",
      "DABOLA               165.981345\n",
      "KOUROUSSA            200.474491\n",
      "PONT DE TELIMELE     361.183856\n",
      "BAC                  371.869157\n",
      "NONGOA               412.496708\n",
      "BADERA               422.344884\n",
      "DIAWLA               766.345341\n",
      "KISSIDOUGOU         1146.609602\n",
      "KEROUANE            1843.311743\n",
      "Name: rmse, dtype: float64\n"
     ]
    }
   ],
   "execution_count": 5
  },
  {
   "metadata": {
    "ExecuteTime": {
     "end_time": "2025-04-18T13:21:03.624564Z",
     "start_time": "2025-04-18T13:21:03.623201Z"
    }
   },
   "cell_type": "code",
   "source": "",
   "id": "bcb95b1598dfbb",
   "outputs": [],
   "execution_count": null
  }
 ],
 "metadata": {
  "kernelspec": {
   "display_name": "Python 3",
   "language": "python",
   "name": "python3"
  },
  "language_info": {
   "codemirror_mode": {
    "name": "ipython",
    "version": 2
   },
   "file_extension": ".py",
   "mimetype": "text/x-python",
   "name": "python",
   "nbconvert_exporter": "python",
   "pygments_lexer": "ipython2",
   "version": "2.7.6"
  }
 },
 "nbformat": 4,
 "nbformat_minor": 5
}
